{
 "cells": [
  {
   "cell_type": "markdown",
   "metadata": {},
   "source": [
    "numberOfPrime 메소드는 정수 n을 매개변수로 입력받습니다.<br/>\n",
    "1부터 입력받은 숫자 n 사이에 있는 소수의 개수를 반환하도록 numberOfPrime 메소드를 만들어 보세요.<br/>\n",
    "소수는 1과 자기 자신으로만 나누어지는 수를 의미합니다.<br/>\n",
    "(1은 소수가 아닙니다.)\n",
    "\n",
    "10을 입력받았다면, 1부터 10 사이의 소수는 [2,3,5,7] 4개가 존재하므로 4를 반환<br/>\n",
    "5를 입력받았다면, 1부터 5 사이의 소수는 [2,3,5] 3개가 존재하므로 3를 반환<br/>"
   ]
  },
  {
   "cell_type": "code",
   "execution_count": 3,
   "metadata": {},
   "outputs": [
    {
     "name": "stdout",
     "output_type": "stream",
     "text": [
      "[2, 3, 5, 7]\n"
     ]
    }
   ],
   "source": [
    "def numberOfPrime(n):\n",
    "    num_list = list(range(n+1))\n",
    "    prime_list = []\n",
    "    for num in num_list:\n",
    "        check = 0\n",
    "        for i in list(range(1,num+1)):\n",
    "            if num % i == 0:\n",
    "                check += 1\n",
    "        if check == 2:\n",
    "            prime_list.append(num)\n",
    "    return (prime_list)\n",
    "\n",
    "# 아래는 테스트로 출력해 보기 위한 코드입니다.\n",
    "print(numberOfPrime(10))"
   ]
  },
  {
   "cell_type": "code",
   "execution_count": 2,
   "metadata": {},
   "outputs": [
    {
     "name": "stdout",
     "output_type": "stream",
     "text": [
      "[1, 2, 3, 4, 5, 6, 7, 8, 9, 10]\n"
     ]
    },
    {
     "data": {
      "text/plain": [
       "range(0, 10)"
      ]
     },
     "execution_count": 2,
     "metadata": {},
     "output_type": "execute_result"
    }
   ],
   "source": [
    "n = 10\n",
    "pn = [i for i in range(1,n+1)]\n",
    "print(pn)\n",
    "range(len(pn))\n",
    "\n"
   ]
  },
  {
   "cell_type": "markdown",
   "metadata": {},
   "source": [
    "# 에라토스테네스의 체 (Sieve of Eratosthenes)알고리즘\n",
    "\n",
    "\n",
    "> 에라토스테네스의 체 (Sieve of Eratosthenes)라는 알고리즘이란\n",
    " - 120까지의 모든 소수를 구한다고 해보자.\n",
    " - 2부터 120까지 배열에 모두 넣은 후\n",
    " - 소수가 아닌 것들을 모두 체크해버리는 것이다.\n",
    " - 2를 제외한 모든 2의 배수를 체크한다.\n",
    " - 3을 제외한 모든 3의 배수를 체크한다.\n",
    " - 4는 아까 체크당했으므로 소수 아님.\n",
    " - 5를 제외한 모든 5의 배수를 체크한다.\n",
    " - 6은 아까 체크당했으므로 소수 아님.\n",
    " - ......\n",
    "\n",
    "\n",
    "\n",
    "#### 체크가 안된 수들이 소수이다.\n",
    "\n"
   ]
  }
 ],
 "metadata": {
  "kernelspec": {
   "display_name": "Python 3",
   "language": "python",
   "name": "python3"
  },
  "language_info": {
   "codemirror_mode": {
    "name": "ipython",
    "version": 3
   },
   "file_extension": ".py",
   "mimetype": "text/x-python",
   "name": "python",
   "nbconvert_exporter": "python",
   "pygments_lexer": "ipython3",
   "version": "3.6.5"
  }
 },
 "nbformat": 4,
 "nbformat_minor": 2
}
