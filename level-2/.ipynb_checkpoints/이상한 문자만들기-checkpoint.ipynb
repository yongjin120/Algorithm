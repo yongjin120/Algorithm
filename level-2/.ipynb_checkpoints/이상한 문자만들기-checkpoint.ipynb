{
 "cells": [
  {
   "cell_type": "markdown",
   "metadata": {},
   "source": [
    "toWeirdCase함수는 문자열 s를 매개변수로 입력받습니다.<br/>\n",
    "문자열 s에 각 단어의 짝수번째 인덱스 문자는 대문자로, 홀수번째 인덱스 문자는 소문자로 바꾼 문자열을 리턴하도록 함수를 완성하세요.<br/>\n",
    "예를 들어 s가 try hello world라면 첫 번째 단어는 TrY, 두 번째 단어는 HeLlO, 세 번째 단어는 WoRlD로 바꿔 TrY HeLlO WoRlD를 리턴하면 됩니다.<br/>\n",
    "\n",
    "주의 문자열 전체의 짝/홀수 인덱스가 아니라, 단어(공백을 기준)별로 짝/홀수 인덱스를 판단합니다.<br/>"
   ]
  },
  {
   "cell_type": "code",
   "execution_count": null,
   "metadata": {},
   "outputs": [],
   "source": [
    "def toWeirdCase(s):\n",
    "    def change(t):\n",
    "        result = \"\"\n",
    "        for i, v in enumerate(t):\n",
    "            if i % 2:  # 홀수\n",
    "                result += v.lower()\n",
    "            else:  # 짝수\n",
    "                result += v.upper()\n",
    "        return result\n",
    "    return ' '.join(list(map(change, s.split())))"
   ]
  },
  {
   "cell_type": "code",
   "execution_count": null,
   "metadata": {},
   "outputs": [],
   "source": [
    "# 아래는 테스트로 출력해 보기 위한 코드입니다.\n",
    "print(\"결과 : {}\".format(toWeirdCase(\"try hello world\")));"
   ]
  },
  {
   "cell_type": "code",
   "execution_count": null,
   "metadata": {},
   "outputs": [],
   "source": []
  },
  {
   "cell_type": "code",
   "execution_count": null,
   "metadata": {},
   "outputs": [],
   "source": [
    "def toWeirdCase(s):\n",
    "    return \" \".join(map(lambda x: \"\".join([a.lower() if i % 2 else a.upper() for i, a in enumerate(x)]), s.split(\" \")))"
   ]
  },
  {
   "cell_type": "code",
   "execution_count": null,
   "metadata": {},
   "outputs": [],
   "source": [
    "def toWeirdCase(s):\n",
    "    a=[]\n",
    "    s=s.split(\" \")\n",
    "    for i in range(len(s)):\n",
    "        for j in range(len(s[i])):\n",
    "            if j%2==0:\n",
    "                a.append(s[i][j].upper())\n",
    "            else:\n",
    "                a.append(s[i][j].lower())\n",
    "        a.append(\" \")\n",
    "\n",
    "    c=\"\".join(a[:-1])\n",
    "    return c"
   ]
  }
 ],
 "metadata": {
  "kernelspec": {
   "display_name": "Python 3",
   "language": "python",
   "name": "python3"
  },
  "language_info": {
   "codemirror_mode": {
    "name": "ipython",
    "version": 3
   },
   "file_extension": ".py",
   "mimetype": "text/x-python",
   "name": "python",
   "nbconvert_exporter": "python",
   "pygments_lexer": "ipython3",
   "version": "3.6.5"
  }
 },
 "nbformat": 4,
 "nbformat_minor": 2
}
