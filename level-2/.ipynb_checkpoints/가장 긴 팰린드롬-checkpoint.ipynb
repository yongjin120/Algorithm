{
 "cells": [
  {
   "cell_type": "markdown",
   "metadata": {},
   "source": [
    "앞뒤를 뒤집어도 똑같은 문자열을 palindrome이라고 합니다.<br/>\n",
    "longest_palindrom함수는 문자열 s를 매개변수로 입력받습니다.<br/>\n",
    "s의 부분문자열중 가장 긴 palindrom의 길이를 리턴하는 함수를 완성하세요.<br/>\n",
    "예를들어 s가 토마토맛토마토이면 7을 리턴하고 토마토맛있어이면 3을 리턴합니다."
   ]
  },
  {
   "cell_type": "code",
   "execution_count": 1,
   "metadata": {},
   "outputs": [],
   "source": [
    "def longest_palindrom_my(s):\n",
    "        \n",
    "    org = list(s)\n",
    "    rvs = list(s)\n",
    "    rvs.reverse()\n",
    "    \n",
    "    org2 = list(s)\n",
    "    rvs2 = list(s)\n",
    "    rvs2.reverse()\n",
    "    \n",
    "    while(org != rvs or org2 != rvs2):\n",
    "        if org != rvs:\n",
    "            print(org)\n",
    "            print(rvs)\n",
    "            del (org[-1])\n",
    "            del (rvs[0])\n",
    "            \n",
    "        if org2 != rvs2:\n",
    "            print(org2)\n",
    "            print(rvs2)\n",
    "            del (org2[0])\n",
    "            del (rvs2[-1])\n",
    "            \n",
    "    print(len(org), len(org2))       \n",
    "    return len(org) if len(org)>len(org2) else len(org2)"
   ]
  },
  {
   "cell_type": "markdown",
   "metadata": {},
   "source": [
    "list reverse<br/>\n",
    "s[::-1]"
   ]
  },
  {
   "cell_type": "code",
   "execution_count": 20,
   "metadata": {},
   "outputs": [],
   "source": [
    "def longest_palindrom(s):\n",
    "    pc = []\n",
    "    for i in range(0, len(s)):\n",
    "        for j in range(1, len(s)+1):            \n",
    "            if s[i:j] and str(s[i:j]) == str(s[i:j])[::-1]:\n",
    "                pc.append(len(s[i:j]))\n",
    "            #if s[j:i] and str(s[j:i]) == str(s[j:i])[::-1]:\n",
    "            #    pc.append(len(s[j:i]))    \n",
    "    return max(pc)"
   ]
  },
  {
   "cell_type": "code",
   "execution_count": 21,
   "metadata": {},
   "outputs": [
    {
     "name": "stdout",
     "output_type": "stream",
     "text": [
      "7\n"
     ]
    }
   ],
   "source": [
    "# 아래는 테스트로 출력해 보기 위한 코드입니다.\n",
    "print(longest_palindrom(\"토마토맛토마토\"))"
   ]
  },
  {
   "cell_type": "code",
   "execution_count": 22,
   "metadata": {},
   "outputs": [
    {
     "name": "stdout",
     "output_type": "stream",
     "text": [
      "3\n"
     ]
    }
   ],
   "source": [
    "print(longest_palindrom(\"토마토맛있어\"))"
   ]
  },
  {
   "cell_type": "code",
   "execution_count": 23,
   "metadata": {},
   "outputs": [
    {
     "name": "stdout",
     "output_type": "stream",
     "text": [
      "3\n"
     ]
    }
   ],
   "source": [
    "print(longest_palindrom(\"맛있어토마토\"))"
   ]
  },
  {
   "cell_type": "code",
   "execution_count": 24,
   "metadata": {},
   "outputs": [
    {
     "name": "stdout",
     "output_type": "stream",
     "text": [
      "7\n"
     ]
    }
   ],
   "source": [
    "print(longest_palindrom(\"나에게소주만병만주소.\"))"
   ]
  },
  {
   "cell_type": "code",
   "execution_count": 25,
   "metadata": {},
   "outputs": [
    {
     "name": "stdout",
     "output_type": "stream",
     "text": [
      "9\n"
     ]
    }
   ],
   "source": [
    "print(longest_palindrom(\"저기저사람여보게저기저게보여\"))"
   ]
  },
  {
   "cell_type": "code",
   "execution_count": 26,
   "metadata": {},
   "outputs": [
    {
     "name": "stdout",
     "output_type": "stream",
     "text": [
      "4\n"
     ]
    }
   ],
   "source": [
    "print(longest_palindrom(\"zzbaabcd\"))"
   ]
  },
  {
   "cell_type": "code",
   "execution_count": 19,
   "metadata": {},
   "outputs": [
    {
     "name": "stdout",
     "output_type": "stream",
     "text": [
      "['어', '있', '맛', '토', '마', '토']\n",
      "\n"
     ]
    }
   ],
   "source": [
    "s = ('토마토맛있어')\n",
    "rs = list('토마토맛있어')\n",
    "rs.reverse()\n",
    "\n",
    "print(rs)\n",
    "print(str(s[3:1]))"
   ]
  }
 ],
 "metadata": {
  "kernelspec": {
   "display_name": "Python 3",
   "language": "python",
   "name": "python3"
  },
  "language_info": {
   "codemirror_mode": {
    "name": "ipython",
    "version": 3
   },
   "file_extension": ".py",
   "mimetype": "text/x-python",
   "name": "python",
   "nbconvert_exporter": "python",
   "pygments_lexer": "ipython3",
   "version": "3.6.5"
  }
 },
 "nbformat": 4,
 "nbformat_minor": 2
}
