{
 "cells": [
  {
   "cell_type": "markdown",
   "metadata": {},
   "source": [
    "is_pair함수는 문자열 s를 매개변수로 입력받습니다.<br/>\n",
    "s에 괄호가 알맞게 짝지어져 있으면 True를 아니면 False를 리턴하는 함수를 완성하세요.<br/>\n",
    "예를들어 s가 (hello)()면 True이고, )(이면 False입니다.<br/>\n",
    "s가 빈 문자열(\"\")인 경우는 없습니다.\n"
   ]
  },
  {
   "cell_type": "code",
   "execution_count": null,
   "metadata": {},
   "outputs": [],
   "source": [
    "def is_pair(s):\n",
    "    # 함수를 완성하세요\n",
    "    return True\n"
   ]
  },
  {
   "cell_type": "code",
   "execution_count": null,
   "metadata": {},
   "outputs": [],
   "source": [
    "# 아래는 테스트로 출력해 보기 위한 코드입니다.\n",
    "print( is_pair(\"(hello)()\"))\n",
    "print( is_pair(\")(\"))"
   ]
  },
  {
   "cell_type": "code",
   "execution_count": 19,
   "metadata": {},
   "outputs": [],
   "source": [
    "s = \"(hello)()\"\n",
    "\n",
    "tmp = \"\"\n",
    "\n",
    "for itr in s:\n",
    "    if itr == '(':\n",
    "        tmp += itr\n",
    "    elif itr == ')':    \n",
    "        tmp += itr\n",
    "        \n",
    "    if tmp[0] == ')':#return \n",
    "        False\n",
    "    \n",
    "    elif (len(tmp) % 2) != 0: #return \n",
    "        False\n",
    "        \n",
    "        "
   ]
  },
  {
   "cell_type": "code",
   "execution_count": 24,
   "metadata": {},
   "outputs": [
    {
     "name": "stdout",
     "output_type": "stream",
     "text": [
      "True\n",
      "True\n"
     ]
    }
   ],
   "source": [
    "for itr2 in range(0, len(tmp)-1, 2):\n",
    "    \n",
    "    if tmp[itr2] =='(' and tmp[itr2+1] ==')':\n",
    "        print(True)\n",
    "    else:\n",
    "        print(False)\n",
    "    "
   ]
  },
  {
   "cell_type": "code",
   "execution_count": null,
   "metadata": {},
   "outputs": [],
   "source": [
    "def is_pair(s):\n",
    "    tmp = \"\"\n",
    "\n",
    "    for itr in s:\n",
    "        if itr == '(':\n",
    "            tmp += itr\n",
    "        elif itr == ')':    \n",
    "            tmp += itr\n",
    "\n",
    "        if tmp[0] == ')':#\n",
    "            return False\n",
    "\n",
    "        elif (len(tmp) % 2) != 0: #\n",
    "            return False\n",
    "    \n",
    "    for itr2 in range(0, len(tmp)-1, 2):\n",
    "    \n",
    "        if tmp[itr2] =='(' and tmp[itr2+1] ==')':\n",
    "            return True\n",
    "        else:\n",
    "            return False \n",
    "        \n",
    "# 아래는 테스트로 출력해 보기 위한 코드입니다.\n",
    "print( is_pair(\"(hello)()\"))\n",
    "print( is_pair(\")(\"))"
   ]
  },
  {
   "cell_type": "code",
   "execution_count": 22,
   "metadata": {},
   "outputs": [
    {
     "name": "stdout",
     "output_type": "stream",
     "text": [
      "()()\n",
      "4\n"
     ]
    }
   ],
   "source": [
    "print(tmp)\n",
    "print(len(tmp))"
   ]
  },
  {
   "cell_type": "code",
   "execution_count": null,
   "metadata": {},
   "outputs": [],
   "source": []
  },
  {
   "cell_type": "code",
   "execution_count": null,
   "metadata": {},
   "outputs": [],
   "source": [
    "def is_pair(s):\n",
    "    # 함수를 완성하세요\n",
    "    x = 0\n",
    "    for w in s:\n",
    "        if x < 0:\n",
    "            break\n",
    "        x = x+1 if w==\"(\" else x-1 if w==\")\" else x\n",
    "    return x==0"
   ]
  },
  {
   "cell_type": "code",
   "execution_count": null,
   "metadata": {},
   "outputs": [],
   "source": [
    "def is_pair(s):\n",
    "    return (s.find(\"(\")<s.find(\")\") and s.count(\"(\")==s.count(\")\"))\n"
   ]
  }
 ],
 "metadata": {
  "kernelspec": {
   "display_name": "Python 3",
   "language": "python",
   "name": "python3"
  },
  "language_info": {
   "codemirror_mode": {
    "name": "ipython",
    "version": 3
   },
   "file_extension": ".py",
   "mimetype": "text/x-python",
   "name": "python",
   "nbconvert_exporter": "python",
   "pygments_lexer": "ipython3",
   "version": "3.6.5"
  }
 },
 "nbformat": 4,
 "nbformat_minor": 2
}
