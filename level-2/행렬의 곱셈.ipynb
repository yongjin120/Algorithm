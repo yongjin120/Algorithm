{
 "cells": [
  {
   "cell_type": "markdown",
   "metadata": {},
   "source": [
    "행렬의 곱셈은, 곱하려는 두 행렬의 어떤 행과 열을 기준으로, 좌측의 행렬은 해당되는 행, <br/>\n",
    "우측의 행렬은 해당되는 열을 순서대로 곱한 값을 더한 값이 들어갑니다. <br/>\n",
    "행렬을 곱하기 위해선 좌측 행렬의 열의 개수와 우측 행렬의 행의 개수가 같아야 합니다. <br/>\n",
    "곱할 수 있는 두 행렬 A,B가 주어질 때, 행렬을 곱한 값을 출력하는 productMatrix 함수를 완성해 보세요"
   ]
  },
  {
   "cell_type": "code",
   "execution_count": 39,
   "metadata": {},
   "outputs": [],
   "source": [
    "import numpy as np\n",
    "def productMatrix(A, B):\n",
    "    return (np.matrix(A)*np.matrix(B)).tolist()\n"
   ]
  },
  {
   "cell_type": "code",
   "execution_count": 41,
   "metadata": {},
   "outputs": [
    {
     "name": "stdout",
     "output_type": "stream",
     "text": [
      "결과 : [[0, 0], [0, 0]]\n"
     ]
    }
   ],
   "source": [
    "import numpy as np\n",
    "\n",
    "# 아래는 테스트로 출력해 보기 위한 코드입니다\n",
    "a = [[1, 2], [2, 3]]\n",
    "b = [[3, 4], [5, 6]]\n",
    "print(\"결과 : {}\".format(productMatrix(a,b)));"
   ]
  },
  {
   "cell_type": "code",
   "execution_count": null,
   "metadata": {},
   "outputs": [],
   "source": [
    "def productMatrix(A, B):\n",
    "    answer = []\n",
    "    for i in range(len(A)):\n",
    "        tmp = []\n",
    "        for j in range(len(A[0])):\n",
    "            element = 0\n",
    "            for k in range(len(A[0])):\n",
    "                element += A[i][k]*B[k][j]\n",
    "            tmp.append(element)\n",
    "        answer.append(tmp)\n",
    "    return answer"
   ]
  },
  {
   "cell_type": "code",
   "execution_count": 33,
   "metadata": {},
   "outputs": [
    {
     "data": {
      "text/plain": [
       "[[0, 0, 0], [0, 0, 0]]"
      ]
     },
     "execution_count": 33,
     "metadata": {},
     "output_type": "execute_result"
    }
   ],
   "source": [
    "A = [[1, 2, 3], [2, 3,4], [22, 33, 44]]\n",
    "B = [[3, 4], [5, 6], [7,8]]\n",
    "\n",
    "answer = [[0 for i in range(len(A))] for j in range(len(B[0][:]))]\n",
    "answer"
   ]
  },
  {
   "cell_type": "raw",
   "metadata": {},
   "source": [
    "   0  1   0  1\n",
    "0 [1, 2] [3, 4]\n",
    "1 [2, 3] [5, 6]\n",
    "    2x2 * 2x2 \n",
    "\n",
    " A  B   A  B   A  B   A  B\n",
    "00 00  01 10  00 01  01 11 \n",
    " 1* 3 + 2* 5 , 1* 4 + 2* 6\n",
    "10 00  11 10  10 01  11 11 \n",
    " 2* 3 + 3* 5 , 2* 4 + 3* 6"
   ]
  },
  {
   "cell_type": "code",
   "execution_count": 28,
   "metadata": {},
   "outputs": [
    {
     "data": {
      "text/plain": [
       "[[0, 0], [0, 0]]"
      ]
     },
     "execution_count": 28,
     "metadata": {},
     "output_type": "execute_result"
    }
   ],
   "source": [
    "n=2\n",
    "answer = [[0 for i in range(n)] for j in range(2)]\n",
    "answer"
   ]
  },
  {
   "cell_type": "markdown",
   "metadata": {},
   "source": [
    "\n",
    "행,행,행--->열,열로 반환\n",
    "\n",
    "[(1, 3, 5), (2, 4, 6)] \n",
    "\n",
    "->>> zip(*[[1,2], [3,4], [5,6]])"
   ]
  },
  {
   "cell_type": "code",
   "execution_count": null,
   "metadata": {},
   "outputs": [],
   "source": [
    "def productMatrix(A, B):\n",
    "    return [[sum(a * b for a, b in zip(A_row, B_col)) for B_col in zip(*B)] for A_row in A]\n",
    "\n",
    "\n",
    "a = [[1, 2], [2, 3]]\n",
    "b = [[3, 4], [5, 6]]\n",
    "\n",
    "print(\"결과 : {}\".format(productMatrix(a, b)))"
   ]
  }
 ],
 "metadata": {
  "kernelspec": {
   "display_name": "Python 3",
   "language": "python",
   "name": "python3"
  },
  "language_info": {
   "codemirror_mode": {
    "name": "ipython",
    "version": 3
   },
   "file_extension": ".py",
   "mimetype": "text/x-python",
   "name": "python",
   "nbconvert_exporter": "python",
   "pygments_lexer": "ipython3",
   "version": "3.6.5"
  }
 },
 "nbformat": 4,
 "nbformat_minor": 2
}
