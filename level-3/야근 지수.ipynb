{
 "cells": [
  {
   "cell_type": "markdown",
   "metadata": {},
   "source": [
    "### 야근 지수\n",
    "회사원인 수민이는 많은 일이 쌓여 있습니다. <br/>\n",
    "수민이는 야근을 최소화하기 위해 남은 일의 작업량을 숫자로 메기고, 일에 대한 야근 지수를 줄이기로 결정했습니다. <br/>\n",
    "야근 지수는 남은 일의 작업량을 제곱하여 더한 값을 의미합니다. <br/>\n",
    "수민이는 1시간 동안 남은 일 중 하나를 골라 작업량 1만큼 처리할 수 있습니다. <br/>\n",
    "수민이의 퇴근까지 남은 N 시간과 각 일에 대한 작업량이 있을 때, noOvertime 함수를 제작하여 수민이의 야근 지수를 최소화 한 결과를 출력해 주세요. <br/>\n",
    "<br/>\n",
    "예를 들어, N=4 일 때, 남은 일의 작업량이 [4, 3, 3] 이라면 <br/>\n",
    "야근 지수를 최소화하기 위해 일을 한 결과는 [2, 2, 2]가 되고 야근 지수는 2^2 + 2^2 + 2^2 = 12가 되어 12를 반환해 줍니다."
   ]
  },
  {
   "cell_type": "markdown",
   "metadata": {},
   "source": [
    "### 야근지수는 다음과 같이 구할 수 있다.<br/>\n",
    "\n",
    "남은 일 = [a1, a2, a3 , ...]\n",
    "\n",
    "남은 일의 갯수(len_works)<br/>\n",
    "남은 일들의 시간의 합(sum_works)<br/>\n",
    "줄일수 있는 시간 n 이라 할때<br/>\n",
    "\n",
    "\n",
    "남은 일들의 시간의 합에서 줄일수 있는 시간을 뺀것을 남은 일의 갯수로 나눈 나머지가 0일때<br/>\n",
    "각각의 남은 일들의 시간은 남은 일들의 시간의 합에서 줄일수 있는 시간을 뺀뒤 남은 일의 갯수로 나눠서 구할 수 있다.\n",
    "\n",
    "남은 일들의 시간의 합에서 줄일수 있는 시간을 뺀것을 남은 일의 갯수로 나눈 나머지가 0이 아닐 때<br/>\n",
    "\n",
    "각각의 남은 일들의 시간은 남은 일들의 시간의 합에서 줄일수 있는 시간과 나머지를 뺀것을 \n",
    "남은 일의 갯수로 나눠서 구하고, 나머지의 수 만큼 남은일들의 시간에 +1을 해준뒤 구할 수 있다.\n",
    "\n",
    "\n"
   ]
  },
  {
   "cell_type": "code",
   "execution_count": 40,
   "metadata": {},
   "outputs": [],
   "source": [
    "def noOvertime(n, works):\n",
    "    len_works = len(works)\n",
    "    sum_works = sum(works)\n",
    "    \n",
    "    print(len_works, sum_works)\n",
    "    \n",
    "    if ((sum_works-n)%len_works) == 0:\n",
    "        each_works = (sum_works-n)/len_works\n",
    "        \n",
    "        return len_works * each_works * each_works\n",
    "    \n",
    "    elif ((sum_works-n)%len_works) != 0:\n",
    "        remainder = (sum_works-n)%len_works\n",
    "        each_works = ((sum_works-n)-remainder)/len_works\n",
    "        \n",
    "        print(remainder, each_works)\n",
    "        \n",
    "        A = remainder * (each_works+1) * (each_works+1)\n",
    "        B = (len_works-remainder) *  each_works * each_works  \n",
    "        print(A,B)\n",
    "        return A+B\n",
    "            \n",
    "    "
   ]
  },
  {
   "cell_type": "code",
   "execution_count": 41,
   "metadata": {},
   "outputs": [
    {
     "name": "stdout",
     "output_type": "stream",
     "text": [
      "8 81\n",
      "7 8.0\n",
      "567.0 64.0\n",
      "631.0\n"
     ]
    }
   ],
   "source": [
    "a = [15, 10, 11, 8, 9, 12, 7, 9]\n",
    "n=10\n",
    "print(noOvertime(n=n,works=a))"
   ]
  },
  {
   "cell_type": "code",
   "execution_count": null,
   "metadata": {},
   "outputs": [],
   "source": [
    "def noOvertime(n, works):\n",
    "    if n >= sum(works):\n",
    "        return 0\n",
    "    while n > 0:\n",
    "        works[works.index(max(works))] -= 1\n",
    "        n -= 1\n",
    "    result = sum([w ** 2 for w in works])\n",
    "    # 야근 지수를 최소화 하였을 때의 야근 지수는 몇일까요?\n",
    "    return result"
   ]
  }
 ],
 "metadata": {
  "kernelspec": {
   "display_name": "Python 3",
   "language": "python",
   "name": "python3"
  },
  "language_info": {
   "codemirror_mode": {
    "name": "ipython",
    "version": 3
   },
   "file_extension": ".py",
   "mimetype": "text/x-python",
   "name": "python",
   "nbconvert_exporter": "python",
   "pygments_lexer": "ipython3",
   "version": "3.6.5"
  }
 },
 "nbformat": 4,
 "nbformat_minor": 2
}
