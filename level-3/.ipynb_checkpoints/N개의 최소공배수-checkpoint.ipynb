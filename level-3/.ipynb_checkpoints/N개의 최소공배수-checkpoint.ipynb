{
 "cells": [
  {
   "cell_type": "markdown",
   "metadata": {},
   "source": [
    "두 수의 최소공배수(Least Common Multiple)란 입력된 두 수의 배수 중 공통이 되는 가장 작은 숫자를 의미합니다. <br/>\n",
    "예를 들어 2와 7의 최소공배수는 14가 됩니다. <br/>\n",
    "정의를 확장해서, n개의 수의 최소공배수는 n 개의 수들의 배수 중 공통이 되는 가장 작은 숫자가 됩니다.<br/> \n",
    "\n",
    "nlcm 함수를 통해 n개의 숫자가 입력되었을 때, 최소공배수를 반환해 주세요.<br/> 예를들어 [2,6,8,14] 가 입력된다면 168을 반환해 주면 됩니다.\n",
    "\n",
    "오름차순으로 정렬된 숫자 리스트의 작은 수 2개씩 최대 공배수를 구해나간다."
   ]
  },
  {
   "cell_type": "code",
   "execution_count": 29,
   "metadata": {},
   "outputs": [],
   "source": [
    "def nlcm(num):\n",
    "    tmp = num[0]\n",
    "    for itr in range(1, len(num)):\n",
    "        tmp = lcm(tmp, num[itr])\n",
    "\n",
    "    return tmp"
   ]
  },
  {
   "cell_type": "code",
   "execution_count": 30,
   "metadata": {},
   "outputs": [
    {
     "name": "stdout",
     "output_type": "stream",
     "text": [
      "168.0\n"
     ]
    }
   ],
   "source": [
    "# 아래는 테스트로 출력해 보기 위한 코드입니다.\n",
    "print(nlcm([2,6,8,14]));"
   ]
  },
  {
   "cell_type": "markdown",
   "metadata": {},
   "source": [
    "## Brute Force\n",
    "\n",
    "가장 단순하고 직관적인 최대공약수 구하는 방법\n",
    "\n",
    "두 정수 a와 b가 있다고 할 때에, a의 약수 이면서 b의 약수인 수 중 최대값이 바로 최대공약수가 됩니다.<br/> 그렇다면 우리는 [1, min(a, b) ] 범위에서 두 수 모두의 약수가 되는 값들을 찾아 그 중 최대값을 구하는 방법을 생각해 볼 수 있습니다. "
   ]
  },
  {
   "cell_type": "code",
   "execution_count": 11,
   "metadata": {},
   "outputs": [],
   "source": [
    "def Brute_Forece(a,b):\n",
    "    max_num = 0\n",
    "    \n",
    "    for i in range(min(a,b),1,-1):\n",
    "        if ((a%i==0) and (b%i==0)):\n",
    "            max_num=i\n",
    "            return max_num\n",
    "            break\n",
    "            "
   ]
  },
  {
   "cell_type": "code",
   "execution_count": 18,
   "metadata": {},
   "outputs": [
    {
     "name": "stdout",
     "output_type": "stream",
     "text": [
      "3\n"
     ]
    }
   ],
   "source": [
    "print(Brute_Forece(6,15))"
   ]
  },
  {
   "cell_type": "markdown",
   "metadata": {},
   "source": [
    "## Euclidean Algorithm\n",
    "a,b : 최대공약수를 구하고자 하는 두 수<br/>\n",
    "r : a를 b로 나눈 나머지 = ( a%b ) = a/b의 나머지<br/>\n",
    "식 : gcd(a,b) = gcd(b,r)\n",
    "\n",
    "시간복잡도 : O( log2(min(a, b)) ) "
   ]
  },
  {
   "cell_type": "code",
   "execution_count": 16,
   "metadata": {},
   "outputs": [],
   "source": [
    "def gcd(a, b):\n",
    "    while(b!=0):\n",
    "        r = a%b\n",
    "        a= b\n",
    "        b= r\n",
    "        \n",
    "    return a\n"
   ]
  },
  {
   "cell_type": "code",
   "execution_count": 23,
   "metadata": {},
   "outputs": [
    {
     "name": "stdout",
     "output_type": "stream",
     "text": [
      "3\n"
     ]
    }
   ],
   "source": [
    "print(gcd(6,15))"
   ]
  },
  {
   "cell_type": "markdown",
   "metadata": {},
   "source": [
    "## 최소공배수 공식(최대공약수를 이용)\n",
    "a,b : 최소공배수를 구하고자 하는 두 수<br/>\n",
    "gcd(a,b) : a와b의 최대공약수<br/>\n",
    "(최소공배수 * 최대공약수 = a * b)를 이용<br/>\n",
    "\n",
    "식 : a * b / gcd(a,b)"
   ]
  },
  {
   "cell_type": "code",
   "execution_count": 22,
   "metadata": {},
   "outputs": [],
   "source": [
    "def lcm(a, b):\n",
    "    return a * b / gcd(a,b)\n"
   ]
  },
  {
   "cell_type": "code",
   "execution_count": 24,
   "metadata": {},
   "outputs": [
    {
     "name": "stdout",
     "output_type": "stream",
     "text": [
      "30.0\n"
     ]
    }
   ],
   "source": [
    "print(lcm(6,15))"
   ]
  },
  {
   "cell_type": "markdown",
   "metadata": {},
   "source": [
    "## 다른사람 풀이"
   ]
  },
  {
   "cell_type": "code",
   "execution_count": 31,
   "metadata": {},
   "outputs": [],
   "source": [
    "def gcd(a, b):\n",
    "    if b == 0:\n",
    "        return a\n",
    "    return gcd(b, a%b)\n",
    "\n",
    "\n",
    "def nlcm(num):\n",
    "    num.sort()\n",
    "    max_num = num[-1]\n",
    "    # print (num, max_num)\n",
    "    temp = 1\n",
    "    for i in range(len(num)):\n",
    "        # lcm = (a*b) / gcd\n",
    "        # gcd = (a*b) / lcm\n",
    "        temp = (num[i] * temp) / (gcd(num[i], temp))\n",
    "        # print (temp)\n",
    "    return temp"
   ]
  },
  {
   "cell_type": "code",
   "execution_count": null,
   "metadata": {},
   "outputs": [],
   "source": [
    "from functools import reduce\n",
    "from fractions import gcd\n",
    "\n",
    "def nlcm(num):\n",
    "    return reduce(lambda a, b : a * b // gcd(a, b), num)\n"
   ]
  }
 ],
 "metadata": {
  "kernelspec": {
   "display_name": "Python 3",
   "language": "python",
   "name": "python3"
  },
  "language_info": {
   "codemirror_mode": {
    "name": "ipython",
    "version": 3
   },
   "file_extension": ".py",
   "mimetype": "text/x-python",
   "name": "python",
   "nbconvert_exporter": "python",
   "pygments_lexer": "ipython3",
   "version": "3.6.5"
  }
 },
 "nbformat": 4,
 "nbformat_minor": 2
}
