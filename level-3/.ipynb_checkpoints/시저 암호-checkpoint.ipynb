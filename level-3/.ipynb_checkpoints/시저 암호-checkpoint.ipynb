{
 "cells": [
  {
   "cell_type": "markdown",
   "metadata": {},
   "source": [
    "어떤 문장의 각 알파벳을 일정한 거리만큼 밀어서 다른 알파벳으로 바꾸는 암호화 방식을 시저 암호라고 합니다.\n",
    "\n",
    "A를 3만큼 밀면 D가 되고 z를 1만큼 밀면 a가 됩니다. 공백은 수정하지 않습니다.\n",
    "\n",
    "보낼 문자열 s와 얼마나 밀지 알려주는 n을 입력받아 암호문을 만드는 caesar 함수를 완성해 보세요.\n",
    "\n",
    "> “a B z”,4를 입력받았다면 “e F d”를 리턴합니다."
   ]
  },
  {
   "cell_type": "code",
   "execution_count": 1,
   "metadata": {},
   "outputs": [],
   "source": [
    "import string\n",
    "\n",
    "def caesar(s, n):\n",
    "    alphabet_lower = list(string.ascii_lowercase)\n",
    "    alphabet_upper = list(string.ascii_uppercase)\n",
    "    s = list(s)\n",
    "    for i, char in enumerate(s):\n",
    "        if char in alphabet_lower:\n",
    "            position = (alphabet_lower.index(char) + n) % 26\n",
    "            s[i] = alphabet_lower[position]\n",
    "        elif char in alphabet_upper:\n",
    "            position = (alphabet_upper.index(char) + n) % 26\n",
    "            s[i] = alphabet_upper[position]\n",
    "        else:\n",
    "            pass\n",
    "    return ''.join(s)"
   ]
  },
  {
   "cell_type": "code",
   "execution_count": 2,
   "metadata": {},
   "outputs": [
    {
     "name": "stdout",
     "output_type": "stream",
     "text": [
      "s는 \"a B z\", n은 4인 경우: e F d\n"
     ]
    }
   ],
   "source": [
    "print('s는 \"a B z\", n은 4인 경우: ' + caesar(\"a B z\", 4))"
   ]
  },
  {
   "cell_type": "code",
   "execution_count": null,
   "metadata": {},
   "outputs": [],
   "source": [
    "# 풀이 1\n",
    "import string\n",
    "\n",
    "\n",
    "def caesar(s, n):\n",
    "    result = \"\"\n",
    "    base = \"\"\n",
    "    for c in s:\n",
    "        if c in string.ascii_lowercase:\n",
    "            base = string.ascii_lowercase\n",
    "        elif c in string.ascii_uppercase:\n",
    "            base = string.ascii_uppercase\n",
    "        else:\n",
    "            result += c\n",
    "            continue\n",
    "        a = base.index(c) + n\n",
    "        result += base[a % len(base)]\n",
    "    return result"
   ]
  },
  {
   "cell_type": "code",
   "execution_count": null,
   "metadata": {},
   "outputs": [],
   "source": [
    "def caesar(plain, no):\n",
    "    result = \"\"\n",
    "    for k in plain:\n",
    "        if k.isalpha():\n",
    "            if k.islower():\n",
    "                result += chr((ord(k) - ord(\"a\") + no) % 26 + ord(\"a\"))\n",
    "            else:\n",
    "                result += chr((ord(k) - ord(\"A\") + no) % 26 + ord(\"A\"))\n",
    "        else:\n",
    "            result += k\n",
    "    return result"
   ]
  },
  {
   "cell_type": "markdown",
   "metadata": {},
   "source": [
    "chr(x) 을 통해서 ascii 코드 10진수, 16진수를 문자로 바꿀 수 있다.<br/>\n",
    "ord(x) 를 통해서 axcii 문자를 10진수로 바꿀 수 있다."
   ]
  }
 ],
 "metadata": {
  "kernelspec": {
   "display_name": "Python 3",
   "language": "python",
   "name": "python3"
  },
  "language_info": {
   "codemirror_mode": {
    "name": "ipython",
    "version": 3
   },
   "file_extension": ".py",
   "mimetype": "text/x-python",
   "name": "python",
   "nbconvert_exporter": "python",
   "pygments_lexer": "ipython3",
   "version": "3.6.5"
  }
 },
 "nbformat": 4,
 "nbformat_minor": 2
}
