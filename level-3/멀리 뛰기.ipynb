{
 "cells": [
  {
   "cell_type": "markdown",
   "metadata": {},
   "source": [
    "효진이는 멀리 뛰기를 연습하고 있습니다. 효진이는 한번에 1칸, 또는 2칸을 뛸 수 있습니다.<br/>\n",
    "칸이 총 4개 있을 때, 효진이는<br/>\n",
    "(1칸, 1칸, 1칸, 1칸)<br/>\n",
    "(1칸, 2칸, 1칸)<br/>\n",
    "(1칸, 1칸, 2칸)<br/>\n",
    "(2칸, 1칸, 1칸)<br/>\n",
    "(2칸, 2칸)<br/>\n",
    "의 5가지 방법으로 맨 끝 칸에 도달할 수 있습니다. <br/>\n",
    "멀리뛰기에 사용될 칸의 수 n이 주어질 때, 효진이가 끝에 도달하는 방법이 몇 가지인지 출력하는 jumpCase 함수를 완성하세요.<br/>\n",
    "예를 들어 4가 입력된다면, 5를 반환해 주면 됩니다."
   ]
  },
  {
   "cell_type": "markdown",
   "metadata": {},
   "source": [
    "1칸이 있을 때 경우의 수 : 1<br/>\n",
    "2칸이 있을 때 경우의 수 : 2<br/>\n",
    "3칸이 있을 때 경우의 수 : 3<br/>\n",
    "4칸이 있을 때 경우의 수 : 5<br/>\n",
    "5칸이 있을 때 경우의 수 : 8<br/>\n",
    "n칸이 있을 때 경우의 수 : (n - 2) + (n - 1) 칸이 있을 때 경우의 수의 합으로 피보나치 수열을 통해 구할 수 있다."
   ]
  },
  {
   "cell_type": "code",
   "execution_count": 3,
   "metadata": {},
   "outputs": [],
   "source": [
    "def jumpCase(num):\n",
    "    result = [1, 2]\n",
    "    i = 0\n",
    "    while len(result) < num:\n",
    "        result.append(result[i] + result[i+1])\n",
    "        i += 1\n",
    "\n",
    "    return result[num-1]"
   ]
  },
  {
   "cell_type": "code",
   "execution_count": 9,
   "metadata": {},
   "outputs": [
    {
     "name": "stdout",
     "output_type": "stream",
     "text": [
      "2\n"
     ]
    }
   ],
   "source": [
    "#아래는 테스트로 출력해 보기 위한 코드입니다.\n",
    "print(jumpCase(1))"
   ]
  },
  {
   "cell_type": "code",
   "execution_count": 10,
   "metadata": {},
   "outputs": [],
   "source": [
    "def jumpCase(num):\n",
    "    if num ==1:\n",
    "        return 1\n",
    "    \n",
    "    a, b = 1, 2\n",
    "    for i in range(2,num):\n",
    "        a, b = b, a+b\n",
    "    return b"
   ]
  }
 ],
 "metadata": {
  "kernelspec": {
   "display_name": "Python 3",
   "language": "python",
   "name": "python3"
  },
  "language_info": {
   "codemirror_mode": {
    "name": "ipython",
    "version": 3
   },
   "file_extension": ".py",
   "mimetype": "text/x-python",
   "name": "python",
   "nbconvert_exporter": "python",
   "pygments_lexer": "ipython3",
   "version": "3.6.5"
  }
 },
 "nbformat": 4,
 "nbformat_minor": 2
}
