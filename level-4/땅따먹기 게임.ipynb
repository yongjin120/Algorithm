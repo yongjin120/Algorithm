{
 "cells": [
  {
   "cell_type": "markdown",
   "metadata": {},
   "source": [
    "영희는 땅따먹기 게임에 푹 빠졌습니다. <br/>\n",
    "땅따먹기 게임의 땅은 총 N행 4열로 나누어져 있고, 모든 칸에는 점수가 쓰여 있습니다.<br/>\n",
    "땅을 밟으면서 한 행씩 내려올 때, 영희는 각 행의 4칸 중 1칸만 밟으면서 내려올 수 있습니다.<br/>\n",
    "땅따먹기 게임에는 같은 열을 연속해서 밟을 수가 없는 특수 규칙이 있습니다. <br/>\n",
    "즉, 1행에서 (5)를 밟았다면,\n",
    "<br/>2행의 (8)은 밟을 수가 없게 됩니다. \n",
    "마지막 행까지 모두 내려왔을 때, 점수가 가장 높은 사람이 게임의 승자가 됩니다. <br/>\n",
    "\n",
    "여러분이 hopscotch 함수를 제작하여 영희가 최대 몇 점을 얻을 수 있는지 알려주세요. <br/>\n",
    "예를 들어<br/>\n",
    "1 2 3 5<br/>\n",
    "5 6 7 8<br/>\n",
    "4 3 2 1<br/>\n",
    "의 땅이 있다면, 영희는 각 줄에서 (5), (7), (4) 땅을 밟아 16점을 최고점으로 받을 수 있으며, hopscotch 함수에서는 16을 반환해주면 됩니다."
   ]
  },
  {
   "cell_type": "code",
   "execution_count": 34,
   "metadata": {},
   "outputs": [
    {
     "name": "stdout",
     "output_type": "stream",
     "text": [
      "5 3\n"
     ]
    }
   ],
   "source": [
    "(m,i) = max((v,i) for i,v in enumerate(b[0]))\n",
    "print (m,i) #(5, 2)"
   ]
  },
  {
   "cell_type": "code",
   "execution_count": 153,
   "metadata": {
    "scrolled": true
   },
   "outputs": [
    {
     "name": "stdout",
     "output_type": "stream",
     "text": [
      "*************\n",
      "[[   1    2    3    5]\n",
      " [   5    6    7    8]\n",
      " [   4    3 2000    1]]\n",
      "5 3 5\n",
      "7 2 12\n",
      "4 0 16\n",
      "[16.  0.  0.  0.]\n",
      "*************\n",
      "[[   1    2    3    0]\n",
      " [   5    6    7    8]\n",
      " [   4    3 2000    1]]\n",
      "3 2 3\n",
      "8 3 11\n",
      "2000 2 2011\n",
      "[  16. 2011.    0.    0.]\n",
      "*************\n",
      "[[   1    2    0    0]\n",
      " [   5    6    7    8]\n",
      " [   4    3 2000    1]]\n",
      "2 1 2\n",
      "8 3 10\n",
      "2000 2 2010\n",
      "[  16. 2011. 2010.    0.]\n",
      "*************\n",
      "[[   1    0    0    0]\n",
      " [   5    6    7    8]\n",
      " [   4    3 2000    1]]\n",
      "1 0 1\n",
      "8 3 9\n",
      "2000 2 2009\n",
      "[  16. 2011. 2010. 2009.]\n"
     ]
    }
   ],
   "source": [
    "b =  [[ 1, 2, 3, 5 ], [ 5, 6, 7, 8 ], [4, 3, 2000, 1]]\n",
    "\n",
    "\n",
    "score = np.zeros(len(b[0]))\n",
    "for x in range(len(b[0])):\n",
    "    print('*************')\n",
    "    \n",
    "    tmp_borad = np.array(b)\n",
    "    print(tmp_borad)\n",
    "    max_val, max_idx = max((m,i) for i,m in enumerate(b[0]))\n",
    "    sum_mv=max_val\n",
    "    b[0][max_idx]=0\n",
    "    tmp_borad[1][max_idx]=0\n",
    "    #print(np.array(b))\n",
    "    print(max_val, max_idx, sum_mv)\n",
    "    for y in range(1, len(b)):\n",
    "        sort_tb = np.sort(tmp_borad[y-1])\n",
    "        if sort_tb[-1] == sort_tb[-2]:\n",
    "            print('pass')\n",
    "            \n",
    "        else:\n",
    "            tmp_borad[y][max_idx]=0\n",
    "            \n",
    "        max_val, max_idx = max((m,i) for i,m in enumerate(tmp_borad[y]))\n",
    "        sum_mv += max_val\n",
    "        print(max_val, max_idx, sum_mv)\n",
    "    \n",
    "    score[x]=sum_mv\n",
    "    print(score)\n",
    "        \n",
    "            "
   ]
  },
  {
   "cell_type": "markdown",
   "metadata": {},
   "source": [
    "위의 방법은 <br/>\n",
    " [[ 1, 2, 3, 5 ], <br/>\n",
    " [ 5, 6, 7, 8 ],<br/>\n",
    " [4, 3, 2000, 1]]<br/>\n",
    " 일때 알맞은 값 반환하지 못함\n",
    " "
   ]
  },
  {
   "cell_type": "code",
   "execution_count": 152,
   "metadata": {},
   "outputs": [
    {
     "name": "stdout",
     "output_type": "stream",
     "text": [
      "[0, 0, 0, 0]\n",
      "[1, 2, 3, 5]\n",
      "[10, 11, 12, 11]\n",
      "[16, 15, 2011, 13]\n",
      "2011\n"
     ]
    }
   ],
   "source": [
    "def hopscotch(board, size):\n",
    "    sumList = [0]*4\n",
    "    print(sumList)\n",
    "    for row in board:\n",
    "        tmp = sumList.copy()\n",
    "        for i in range(len(row)):\n",
    "            sumList[i] = row[i] + max(tmp[:i] + tmp[i+1:])\n",
    "        print(sumList)\n",
    "    return max(sumList)\n",
    "\n",
    "\n",
    "\n",
    "#아래는 테스트로 출력해 보기 위한 코드입니다.\n",
    "board =  [[ 1, 2, 3, 5 ], [ 5, 6, 7, 8 ], [4, 3, 2000, 1]]\n",
    "print(hopscotch(board, 3))\n"
   ]
  },
  {
   "cell_type": "code",
   "execution_count": null,
   "metadata": {},
   "outputs": [],
   "source": [
    "def hopscotch(board, size):\n",
    "    answer = [0]*4\n",
    "    for i in range(size) :\n",
    "        row = board[i][:]\n",
    "        mx = answer[:]\n",
    "        for j in range(4) :\n",
    "            mx2 = mx[:]\n",
    "            mx2.pop(j)\n",
    "            answer[j] = row[j] + max(mx2)\n",
    "    return max(answer)\n",
    "\n",
    "#아래는 테스트로 출력해 보기 위한 코드입니다.\n",
    "board =  [[ 1, 2, 3, 5 ], [ 5, 6, 7, 8 ], [4, 3, 2, 1]]\n",
    "print(hopscotch(board, 3))\n"
   ]
  },
  {
   "cell_type": "code",
   "execution_count": null,
   "metadata": {},
   "outputs": [],
   "source": [
    "def hopscotch(board, size):\n",
    "    result = 0\n",
    "    # 땅따먹기 게임으로 얻을 수 있는 최대 점수는?\n",
    "    for i in range(1,size):\n",
    "        for j in range(4):\n",
    "            t=board[i-1][0:j]+board[i-1][j+1:]\n",
    "            board[i][j]+=max(t)\n",
    "    return max(board[size-1])\n",
    "\n",
    "\n",
    "#아래는 테스트로 출력해 보기 위한 코드입니다.\n",
    "board =  [[ 1, 2, 3, 5 ], [ 5, 6, 7, 8 ], [4, 3, 2, 1]]\n",
    "print(hopscotch(board, 3))"
   ]
  }
 ],
 "metadata": {
  "kernelspec": {
   "display_name": "Python 3",
   "language": "python",
   "name": "python3"
  },
  "language_info": {
   "codemirror_mode": {
    "name": "ipython",
    "version": 3
   },
   "file_extension": ".py",
   "mimetype": "text/x-python",
   "name": "python",
   "nbconvert_exporter": "python",
   "pygments_lexer": "ipython3",
   "version": "3.6.5"
  }
 },
 "nbformat": 4,
 "nbformat_minor": 2
}
