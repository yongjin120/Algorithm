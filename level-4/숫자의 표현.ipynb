{
 "cells": [
  {
   "cell_type": "markdown",
   "metadata": {},
   "source": [
    "수학을 공부하던 민지는 재미있는 사실을 발견하였습니다. <br/>\n",
    "그 사실은 바로 연속된 자연수의 합으로 어떤 숫자를 표현하는 방법이 여러 가지라는 것입니다. 예를 들어, 15를 표현하는 방법은<br/>\n",
    "(1+2+3+4+5)<br/>\n",
    "(4+5+6)<br/>\n",
    "(7+8)<br/>\n",
    "(15)<br/>\n",
    "로 총 4가지가 존재합니다. <br/>\n",
    "숫자를 입력받아 연속된 수로 표현하는 방법을 반환하는 expressions 함수를 만들어 민지를 도와주세요. 예를 들어 15가 입력된다면 4를 반환해 주면 됩니다.\n",
    "\n"
   ]
  },
  {
   "cell_type": "code",
   "execution_count": 16,
   "metadata": {},
   "outputs": [],
   "source": [
    "# 시간 초과\n",
    "def expressions(num):\n",
    "    s=0\n",
    "    count=1\n",
    "    \n",
    "    for i in range(1,num+1):\n",
    "        print('**************')\n",
    "        s=0\n",
    "        for x in range(i,num+1):\n",
    "            print(x)\n",
    "            s+=x\n",
    "            if s==num:\n",
    "                print(s)                \n",
    "                count+=1\n",
    "                break\n",
    "\n",
    "    return count\n"
   ]
  },
  {
   "cell_type": "code",
   "execution_count": null,
   "metadata": {},
   "outputs": [],
   "source": [
    "def expressions(num):\n",
    "    s=0\n",
    "    count=1\n",
    "    \n",
    "    for i in range(1,num//2+1):\n",
    "        print('**************')\n",
    "        s=0\n",
    "        for x in range(i,num//2+2):\n",
    "            print(x)\n",
    "            s+=x\n",
    "            if s==num:\n",
    "                print(s)                \n",
    "                count+=1\n",
    "                break\n",
    "\n",
    "    return count\n"
   ]
  },
  {
   "cell_type": "code",
   "execution_count": null,
   "metadata": {},
   "outputs": [],
   "source": [
    "def expressions(num):\n",
    "    return len([i  for i in range(1,num+1,2) if num % i is 0])"
   ]
  }
 ],
 "metadata": {
  "kernelspec": {
   "display_name": "Python 3",
   "language": "python",
   "name": "python3"
  },
  "language_info": {
   "codemirror_mode": {
    "name": "ipython",
    "version": 3
   },
   "file_extension": ".py",
   "mimetype": "text/x-python",
   "name": "python",
   "nbconvert_exporter": "python",
   "pygments_lexer": "ipython3",
   "version": "3.6.5"
  }
 },
 "nbformat": 4,
 "nbformat_minor": 2
}
