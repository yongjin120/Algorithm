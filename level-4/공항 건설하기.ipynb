{
 "cells": [
  {
   "cell_type": "markdown",
   "metadata": {},
   "source": [
    "1보다 큰 N개의 도시 중 한 곳에 공항을 지을 예정입니다. <br/>\n",
    "사람들의 편의를 위해 공항으로부터 각 사람들까지의 도시간 이동 거리가 최소가 되는 도시에 짓기로 하였습니다. <br/>\n",
    "편의상 도시는 일직선상에 놓여있다고 가정하며 좌표의 범위는 음수가 포함됩니다. 또한 좌표는 정렬되어 있지 않습니다.<br/>\n",
    "직선상의 위치와 그 도시에 사는 사람들의 수가 주어질 때, <br/>\n",
    "공항을 지을 도시의 위치를 반환해주는 함수 chooseCity 함수를 완성하세요.<br/>\n",
    "거리가 같은 도시가 2개 이상일 경우 위치가 더 작은 쪽의 도시를 선택하면 됩니다.<br/>\n",
    "예를 들어 다음과 같은 정보의 도시가 있다고 가정해 봅시다.<br/>\n",
    "\n",
    "위치\t1\t2\t3<br/>\n",
    "인구\t5\t2\t3<br/>\n",
    "이 살 경우, 각각의 도시에 공항을 지었을 때의 사람들의 이동 거리는 8, 8, 12 이므로 1번 또는 2번에 지을 수 있지만, 1의 위치가 더 작으므로 1을 반환해주면 됩니다."
   ]
  },
  {
   "cell_type": "markdown",
   "metadata": {},
   "source": [
    "## O(n^2)\n",
    "실행시간이 10초를 초과하여 실행이 중단되었습니다."
   ]
  },
  {
   "cell_type": "code",
   "execution_count": 107,
   "metadata": {},
   "outputs": [],
   "source": [
    "import operator\n",
    "def chooseCity(n,city):\n",
    "    answer = []\n",
    "    city = sorted(city, key = operator.itemgetter(0))\n",
    "    print(city)\n",
    "    for itr1 in range(n):\n",
    "        sum_dis=0        \n",
    "        idx=0\n",
    "        for itr2 in range(-itr1, (n-itr1)): \n",
    "            sum_dis+=abs(city[idx][1]*itr2)\n",
    "            idx+=1\n",
    "        print(sum_dis)\n",
    "        answer.append([itr1,sum_dis])\n",
    "    print(answer)\n",
    "    a= sorted(answer, key = operator.itemgetter(1))\n",
    "    \n",
    "    return city[a[0][0]][0]"
   ]
  },
  {
   "cell_type": "code",
   "execution_count": 108,
   "metadata": {
    "scrolled": true
   },
   "outputs": [
    {
     "name": "stdout",
     "output_type": "stream",
     "text": [
      "[[1, 5], [2, 2], [3, 3]]\n",
      "8\n",
      "8\n",
      "12\n",
      "[[0, 8], [1, 8], [2, 12]]\n",
      "1\n"
     ]
    }
   ],
   "source": [
    "#아래 코드는 출력을 위한 테스트 코드입니다.\n",
    "print(chooseCity(3,[[1,5],[2,2],[3,3]]))"
   ]
  },
  {
   "cell_type": "code",
   "execution_count": 109,
   "metadata": {},
   "outputs": [
    {
     "name": "stdout",
     "output_type": "stream",
     "text": [
      "[[-2, 5], [-1, 2], [0, 3], [1, 5], [2, 2], [3, 3]]\n",
      "46\n",
      "36\n",
      "30\n",
      "30\n",
      "40\n",
      "54\n",
      "[[0, 46], [1, 36], [2, 30], [3, 30], [4, 40], [5, 54]]\n",
      "0\n"
     ]
    }
   ],
   "source": [
    "print(chooseCity(6,[[1,5],[2,2],[3,3], [-2,5],[-1,2],[0,3]]))"
   ]
  },
  {
   "cell_type": "code",
   "execution_count": 101,
   "metadata": {},
   "outputs": [
    {
     "data": {
      "text/plain": [
       "[[-2, 5], [-1, 2], [0, 3], [1, 5], [2, 2], [3, 3]]"
      ]
     },
     "execution_count": 101,
     "metadata": {},
     "output_type": "execute_result"
    }
   ],
   "source": [
    "a = [[1,5],[2,2],[3,3], [-2,5],[-1,2],[0,3]]\n",
    "a.sort()\n",
    "a"
   ]
  },
  {
   "cell_type": "code",
   "execution_count": 15,
   "metadata": {},
   "outputs": [
    {
     "data": {
      "text/plain": [
       "[[-2, 5], [-1, 2], [0, 3], [1, 5], [2, 2], [3, 3]]"
      ]
     },
     "execution_count": 15,
     "metadata": {},
     "output_type": "execute_result"
    }
   ],
   "source": [
    "import operator \n",
    "name_sort = sorted(a, key = operator.itemgetter(0))\n",
    "name_sort"
   ]
  },
  {
   "cell_type": "markdown",
   "metadata": {},
   "source": [
    "## 다른사람 풀이 "
   ]
  },
  {
   "cell_type": "code",
   "execution_count": 112,
   "metadata": {
    "scrolled": false
   },
   "outputs": [
    {
     "name": "stdout",
     "output_type": "stream",
     "text": [
      "left 5 right 15\n",
      "if -1\n",
      "left 7 right 13\n",
      "if 0\n",
      "left 10 right 10\n",
      "left 15 right 5\n",
      "left 17 right 3\n",
      "0\n"
     ]
    }
   ],
   "source": [
    "def chooseCity2(n,city):\n",
    "    city.sort()\n",
    "    result = city[0][0]\n",
    "    left, right = 0, sum([city[i][1] for i in range(n)])\n",
    "    for i in range(n-1):\n",
    "        left += city[i][1]\n",
    "        right -= city[i][1]\n",
    "        print('left',left,'right',right)\n",
    "        if right > left:\n",
    "            result = city[i+1][0]\n",
    "            print('if',result)\n",
    "    return result\n",
    "\n",
    "print(chooseCity2(6,[[1,5],[2,2],[3,3], [-2,5],[-1,2],[0,3]]))"
   ]
  },
  {
   "cell_type": "markdown",
   "metadata": {},
   "source": [
    "먼저 city list를 정렬을 한다. <br/>\n",
    "해당 문제는 인구수에 따라서 최적의 이동 거리를 산출할 수 있다 <br/>\n",
    "즉, 공항 양쪽의 인구수가 비슷할 수록 최적의 위치임을 알 수 있다."
   ]
  }
 ],
 "metadata": {
  "kernelspec": {
   "display_name": "Python 3",
   "language": "python",
   "name": "python3"
  },
  "language_info": {
   "codemirror_mode": {
    "name": "ipython",
    "version": 3
   },
   "file_extension": ".py",
   "mimetype": "text/x-python",
   "name": "python",
   "nbconvert_exporter": "python",
   "pygments_lexer": "ipython3",
   "version": "3.6.5"
  }
 },
 "nbformat": 4,
 "nbformat_minor": 2
}
