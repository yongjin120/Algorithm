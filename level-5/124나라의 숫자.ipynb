{
 "cells": [
  {
   "cell_type": "markdown",
   "metadata": {},
   "source": [
    "1,2,4 세 개의 숫자만 쓰는 124나라가 있습니다.<br/>\n",
    "\n",
    "124나라에서 사용하는 숫자는 다음과 같이 변환됩니다.<br/>\n",
    "\n",
    "10진법의 1 → 1<br/>\n",
    "10진법의 2 → 2<br/>\n",
    "10진법의 3 → 4<br/>\n",
    "10진법의 4 → 11<br/>\n",
    "10진법의 5 → 12<br/>\n",
    "10진법의 6 → 14<br/>\n",
    "10진법의 7 → 21<br/>\n",
    "10진법의 수 N이 입력될 때, 124나라에서 쓰는 숫자로 변환하여 반환해주는 change124 함수를 완성해 보세요. <br/>\n",
    "예를 들어 N = 10이면 “41”를 반환해주면 됩니다.<br/>\n",
    "\n",
    "리턴 타입은 문자열입니다."
   ]
  },
  {
   "cell_type": "code",
   "execution_count": 44,
   "metadata": {},
   "outputs": [],
   "source": [
    "def change124(n):\n",
    "    answer = ''\n",
    "    \n",
    "    while n>0:\n",
    "        n, remin = divmod(n,3)\n",
    "\n",
    "        if remin == 0 :\n",
    "            n-=1      \n",
    "            answer='4'+answer\n",
    "        else:\n",
    "            answer = str(remin)+answer\n",
    "    \n",
    "    \n",
    "    return answer\n"
   ]
  },
  {
   "cell_type": "markdown",
   "metadata": {},
   "source": [
    "# 다른사람 풀이"
   ]
  },
  {
   "cell_type": "code",
   "execution_count": 38,
   "metadata": {},
   "outputs": [],
   "source": [
    "def change124(n):\n",
    "    answer = ''\n",
    "    while n>0:\n",
    "        n, a = divmod(n,3)\n",
    "        print (n, a)\n",
    "        if a==0:\n",
    "            n-=1\n",
    "        answer = \"412\"[a]+answer\n",
    "    return answer\n",
    "        "
   ]
  },
  {
   "cell_type": "code",
   "execution_count": null,
   "metadata": {},
   "outputs": [],
   "source": [
    "def change124(n):\n",
    "    num = ['1','2','4']\n",
    "    answer = \"\"\n",
    "\n",
    "\n",
    "    while n > 0:\n",
    "        n -= 1\n",
    "        answer = num[n % 3] + answer\n",
    "        n //= 3\n",
    "\n",
    "    return answer"
   ]
  },
  {
   "cell_type": "code",
   "execution_count": 45,
   "metadata": {},
   "outputs": [
    {
     "name": "stdout",
     "output_type": "stream",
     "text": [
      "3 1\n",
      "1 0\n",
      "41\n"
     ]
    }
   ],
   "source": [
    "# 아래는 테스트로 출력해 보기 위한 코드입니다.\n",
    "print(change124(10))\n"
   ]
  },
  {
   "cell_type": "code",
   "execution_count": 2,
   "metadata": {},
   "outputs": [
    {
     "name": "stdout",
     "output_type": "stream",
     "text": [
      "31\n"
     ]
    }
   ],
   "source": [
    "n=10\n",
    "\n",
    "quotient = n // 3\n",
    "remainder = n % 3\n",
    "\n",
    "print(str(quotient)+str(remainder))"
   ]
  },
  {
   "cell_type": "code",
   "execution_count": 35,
   "metadata": {},
   "outputs": [
    {
     "name": "stdout",
     "output_type": "stream",
     "text": [
      "31\n"
     ]
    }
   ],
   "source": [
    "a=''\n",
    "print('3'+'1'+a)"
   ]
  },
  {
   "cell_type": "code",
   "execution_count": 46,
   "metadata": {},
   "outputs": [
    {
     "data": {
      "text/plain": [
       "(3, 1)"
      ]
     },
     "execution_count": 46,
     "metadata": {},
     "output_type": "execute_result"
    }
   ],
   "source": [
    "divmod(10,3)"
   ]
  }
 ],
 "metadata": {
  "kernelspec": {
   "display_name": "Python 3",
   "language": "python",
   "name": "python3"
  },
  "language_info": {
   "codemirror_mode": {
    "name": "ipython",
    "version": 3
   },
   "file_extension": ".py",
   "mimetype": "text/x-python",
   "name": "python",
   "nbconvert_exporter": "python",
   "pygments_lexer": "ipython3",
   "version": "3.6.5"
  }
 },
 "nbformat": 4,
 "nbformat_minor": 2
}
