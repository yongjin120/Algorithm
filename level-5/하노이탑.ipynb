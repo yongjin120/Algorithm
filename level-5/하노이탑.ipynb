{
 "cells": [
  {
   "cell_type": "markdown",
   "metadata": {},
   "source": [
    "**출처 :** <https://grepsean.github.io/Algorithms-and-Data-Structures-with-Python-2/>\n",
    "\n",
    " - 한 번에 하나의 원판만 옮길 수 있다.<br/>\n",
    " - 큰 원판이 작은 원판 위에 있어서는 안 된다.\n",
    "\n",
    "하노이 타워 문제에 재귀적 사고를 적용\n",
    "\n",
    "1. 일단 n번째 즉 제일 마지막 원판이 마지막 기둥 제일 아래에 위치시켜야 한다. <br/>\n",
    " 이것을 위해서는 n-1개의 원판은 중간 기둥에 모두 옮겨져 있어야 한다.<br/> \n",
    " <br/>\n",
    "2. 중간 기둥에 있는 n-1개의 원판중 n-1번째 원판을 마지막 기둥으로 옮겨야한다.<br/>\n",
    " 이것을 위해서는 n-2개의 원판을 비어있는 첫번째 원판으로 옮겨야한다.<br/>\n",
    " <br/>\n",
    "3. …이런 반복이 무한하게 반복된다. <br/>\n",
    "\n",
    "여기서 각 단계 마다의 탈출 조건(Base case)은 옮겨야할 원판이 아무것도 없다면 종료될 것이다."
   ]
  },
  {
   "cell_type": "code",
   "execution_count": null,
   "metadata": {},
   "outputs": [],
   "source": [
    "def hanoi(n, start, waypoint, destination):\n",
    "    if n == 0:\n",
    "      # 탈출 조건\n",
    "      return  \n",
    "    # 1. 일단 n-1까지를 출발 기둥(Start)에서 중간 기둥(Waypoint)을 거쳐 도착 기동(Destination)으로 옮긴다.\n",
    "    hanoi(n - 1, start, destination, waypoint)\n",
    "    # 2. 그리고 출발 기둥(Start)에 남아있는 n번째(제일 큰) 원판을 도착 기동(Destination)기둥으로 바로 옯긴다.\n",
    "    print('{} move {} => {}'.format(n, start, destination))\n",
    "    # 3. 중간 기둥(Waypoint)에 남아있는 n-1까지들을 다시 출발 기둥(Start)를 겨처 도착 기동(Destination)으로 옮긴다.\n",
    "    hanoi(n - 1, waypoint, start, destination)"
   ]
  },
  {
   "cell_type": "code",
   "execution_count": 21,
   "metadata": {},
   "outputs": [],
   "source": [
    "def hanoi_path(n, start, waypoint, destination, answer):\n",
    "        if n == 0:\n",
    "            return  \n",
    "        hanoi_path(n - 1, start, destination, waypoint, answer)    \n",
    "        answer.append([start, destination])\n",
    "        \n",
    "        hanoi_path(n - 1, waypoint, start, destination, answer)\n",
    "        return answer\n",
    "    \n",
    "def hanoi(n):\n",
    "    answer = []\n",
    "    hanoi_path(n,1,2,3,answer)\n",
    "    return answer\n",
    "\n",
    "# 아래는 테스트로 출력해 보기 위한 코드입니다.\n",
    "print(hanoi(2))\n"
   ]
  },
  {
   "cell_type": "markdown",
   "metadata": {},
   "source": [
    "# 다른 사람 풀이"
   ]
  },
  {
   "cell_type": "code",
   "execution_count": null,
   "metadata": {},
   "outputs": [],
   "source": [
    "def hanoi(n):\n",
    "    def move(fr, via, to, n):\n",
    "        if n == 1:\n",
    "            return [[fr, to]]\n",
    "        moves = []\n",
    "        moves.extend(move(fr, to, via, n-1))\n",
    "        moves.extend([[fr, to]])\n",
    "        moves.extend(move(via, fr, to, n-1))\n",
    "        return moves\n",
    "    return move(1, 2, 3, n)"
   ]
  },
  {
   "cell_type": "code",
   "execution_count": null,
   "metadata": {},
   "outputs": [],
   "source": [
    "def move_n_disk(n, i, f):\n",
    "    if n==1: return [[i, f]]\n",
    "    return move_n_disk(n-1, i, 6-i-f) + move_n_disk(1, i, f) + move_n_disk(n-1, 6-i-f, f)\n",
    "\n",
    "def hanoi(n):\n",
    "    answer = move_n_disk(n, 1, 3)\n",
    "    return answer  # 2차원 배열을 반환해 주어야 합니다.\n"
   ]
  },
  {
   "cell_type": "code",
   "execution_count": null,
   "metadata": {},
   "outputs": [],
   "source": [
    "def hanoi(n):\n",
    "    answer = []\n",
    "    def def_move(n, _from, middle, to):\n",
    "        if n == 1:\n",
    "            answer.append([_from,to])\n",
    "        else:\n",
    "            def_move(n-1,_from,to,middle)\n",
    "            answer.append([_from,to])\n",
    "            def_move(n-1,middle,_from,to)\n",
    "    def_move(n,1,2,3)\n",
    "    return answer  # 2차원 배열을 반환해 주어야 합니다.\n",
    "\n",
    "# 아래는 테스트로 출력해 보기 위한 코드입니다.\n",
    "print(hanoi(2))"
   ]
  }
 ],
 "metadata": {
  "kernelspec": {
   "display_name": "Python 3",
   "language": "python",
   "name": "python3"
  },
  "language_info": {
   "codemirror_mode": {
    "name": "ipython",
    "version": 3
   },
   "file_extension": ".py",
   "mimetype": "text/x-python",
   "name": "python",
   "nbconvert_exporter": "python",
   "pygments_lexer": "ipython3",
   "version": "3.6.5"
  }
 },
 "nbformat": 4,
 "nbformat_minor": 2
}
